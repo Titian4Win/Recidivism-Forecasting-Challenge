{
 "cells": [
  {
   "cell_type": "code",
   "execution_count": 1,
   "id": "ccca59c5",
   "metadata": {
    "execution": {
     "iopub.execute_input": "2022-04-27T18:10:39.815662Z",
     "iopub.status.busy": "2022-04-27T18:10:39.814842Z",
     "iopub.status.idle": "2022-04-27T18:10:39.837171Z",
     "shell.execute_reply": "2022-04-27T18:10:39.839786Z",
     "shell.execute_reply.started": "2022-04-27T17:59:54.992269Z"
    },
    "papermill": {
     "duration": 0.108908,
     "end_time": "2022-04-27T18:10:39.840118",
     "exception": false,
     "start_time": "2022-04-27T18:10:39.731210",
     "status": "completed"
    },
    "tags": []
   },
   "outputs": [
    {
     "name": "stdout",
     "output_type": "stream",
     "text": [
      "/kaggle/input/recidivism-forecasting-challenge/NIJ_s_Recidivism_Challenge_Test_Dataset1.csv\n",
      "/kaggle/input/recidivism-forecasting-challenge/NIJ_s_Recidivism_Challenge_Training_Dataset.csv\n",
      "/kaggle/input/recidivism-forecasting-challenge/submission_sample.csv\n"
     ]
    }
   ],
   "source": [
    "# This Python 3 environment comes with many helpful analytics libraries installed\n",
    "# It is defined by the kaggle/python Docker image: https://github.com/kaggle/docker-python\n",
    "# For example, here's several helpful packages to load\n",
    "\n",
    "import numpy as np # linear algebra\n",
    "import pandas as pd # data processing, CSV file I/O (e.g. pd.read_csv)\n",
    "\n",
    "# Input data files are available in the read-only \"../input/\" directory\n",
    "# For example, running this (by clicking run or pressing Shift+Enter) will list all files under the input directory\n",
    "\n",
    "import os\n",
    "for dirname, _, filenames in os.walk('/kaggle/input'):\n",
    "    for filename in filenames:\n",
    "        print(os.path.join(dirname, filename))\n",
    "\n",
    "# You can write up to 20GB to the current directory (/kaggle/working/) that gets preserved as output when you create a version using \"Save & Run All\" \n",
    "# You can also write temporary files to /kaggle/temp/, but they won't be saved outside of the current session"
   ]
  },
  {
   "cell_type": "code",
   "execution_count": 2,
   "id": "a2db55a1",
   "metadata": {
    "execution": {
     "iopub.execute_input": "2022-04-27T18:10:39.969614Z",
     "iopub.status.busy": "2022-04-27T18:10:39.968779Z",
     "iopub.status.idle": "2022-04-27T18:10:40.299313Z",
     "shell.execute_reply": "2022-04-27T18:10:40.300460Z",
     "shell.execute_reply.started": "2022-04-27T17:59:55.006153Z"
    },
    "papermill": {
     "duration": 0.390582,
     "end_time": "2022-04-27T18:10:40.300683",
     "exception": false,
     "start_time": "2022-04-27T18:10:39.910101",
     "status": "completed"
    },
    "tags": []
   },
   "outputs": [],
   "source": [
    "#loading the dataset\n",
    "test = pd.read_csv(\"/kaggle/input/recidivism-forecasting-challenge/NIJ_s_Recidivism_Challenge_Test_Dataset1.csv\")\n",
    "train = pd.read_csv(\"/kaggle/input/recidivism-forecasting-challenge/NIJ_s_Recidivism_Challenge_Training_Dataset.csv\")\n",
    "submission_sample = pd.read_csv(\"/kaggle/input/recidivism-forecasting-challenge/submission_sample.csv\")"
   ]
  },
  {
   "cell_type": "code",
   "execution_count": 3,
   "id": "ba8b4dea",
   "metadata": {
    "execution": {
     "iopub.execute_input": "2022-04-27T18:10:40.442986Z",
     "iopub.status.busy": "2022-04-27T18:10:40.440518Z",
     "iopub.status.idle": "2022-04-27T18:10:40.443827Z",
     "shell.execute_reply": "2022-04-27T18:10:40.444571Z",
     "shell.execute_reply.started": "2022-04-27T17:59:55.174909Z"
    },
    "papermill": {
     "duration": 0.079874,
     "end_time": "2022-04-27T18:10:40.444893",
     "exception": false,
     "start_time": "2022-04-27T18:10:40.365019",
     "status": "completed"
    },
    "tags": []
   },
   "outputs": [],
   "source": [
    "test['Recidivism_Arrest_Year1'] = np.nan"
   ]
  },
  {
   "cell_type": "code",
   "execution_count": 4,
   "id": "3265b519",
   "metadata": {
    "execution": {
     "iopub.execute_input": "2022-04-27T18:10:40.579836Z",
     "iopub.status.busy": "2022-04-27T18:10:40.578848Z",
     "iopub.status.idle": "2022-04-27T18:10:40.595753Z",
     "shell.execute_reply": "2022-04-27T18:10:40.596247Z",
     "shell.execute_reply.started": "2022-04-27T17:59:55.184163Z"
    },
    "papermill": {
     "duration": 0.088407,
     "end_time": "2022-04-27T18:10:40.596390",
     "exception": false,
     "start_time": "2022-04-27T18:10:40.507983",
     "status": "completed"
    },
    "tags": []
   },
   "outputs": [],
   "source": [
    "train = train[test.columns]"
   ]
  },
  {
   "cell_type": "code",
   "execution_count": 5,
   "id": "06e28ba3",
   "metadata": {
    "execution": {
     "iopub.execute_input": "2022-04-27T18:10:40.743242Z",
     "iopub.status.busy": "2022-04-27T18:10:40.742423Z",
     "iopub.status.idle": "2022-04-27T18:10:40.789125Z",
     "shell.execute_reply": "2022-04-27T18:10:40.789781Z",
     "shell.execute_reply.started": "2022-04-27T17:59:55.196009Z"
    },
    "papermill": {
     "duration": 0.118382,
     "end_time": "2022-04-27T18:10:40.789989",
     "exception": false,
     "start_time": "2022-04-27T18:10:40.671607",
     "status": "completed"
    },
    "tags": []
   },
   "outputs": [],
   "source": [
    "df = pd.concat([train,test]).reset_index(drop=True)"
   ]
  },
  {
   "cell_type": "code",
   "execution_count": 6,
   "id": "8917f215",
   "metadata": {
    "execution": {
     "iopub.execute_input": "2022-04-27T18:10:40.910185Z",
     "iopub.status.busy": "2022-04-27T18:10:40.907834Z",
     "iopub.status.idle": "2022-04-27T18:10:40.990437Z",
     "shell.execute_reply": "2022-04-27T18:10:40.991128Z",
     "shell.execute_reply.started": "2022-04-27T17:59:55.277751Z"
    },
    "papermill": {
     "duration": 0.146469,
     "end_time": "2022-04-27T18:10:40.991345",
     "exception": false,
     "start_time": "2022-04-27T18:10:40.844876",
     "status": "completed"
    },
    "tags": []
   },
   "outputs": [
    {
     "data": {
      "text/plain": [
       "ID                                                   0.000000\n",
       "Gender                                               0.000000\n",
       "Race                                                 0.000000\n",
       "Age_at_Release                                       0.000000\n",
       "Residence_PUMA                                       0.000000\n",
       "Gang_Affiliated                                      0.122586\n",
       "Supervision_Risk_Score_First                         0.018386\n",
       "Supervision_Level_First                              0.066576\n",
       "Education_Level                                      0.000000\n",
       "Dependents                                           0.000000\n",
       "Prison_Offense                                       0.126843\n",
       "Prison_Years                                         0.000000\n",
       "Prior_Arrest_Episodes_Felony                         0.000000\n",
       "Prior_Arrest_Episodes_Misd                           0.000000\n",
       "Prior_Arrest_Episodes_Violent                        0.000000\n",
       "Prior_Arrest_Episodes_Property                       0.000000\n",
       "Prior_Arrest_Episodes_Drug                           0.000000\n",
       "Prior_Arrest_Episodes_PPViolationCharges             0.000000\n",
       "Prior_Arrest_Episodes_DVCharges                      0.000000\n",
       "Prior_Arrest_Episodes_GunCharges                     0.000000\n",
       "Prior_Conviction_Episodes_Felony                     0.000000\n",
       "Prior_Conviction_Episodes_Misd                       0.000000\n",
       "Prior_Conviction_Episodes_Viol                       0.000000\n",
       "Prior_Conviction_Episodes_Prop                       0.000000\n",
       "Prior_Conviction_Episodes_Drug                       0.000000\n",
       "Prior_Conviction_Episodes_PPViolationCharges         0.000000\n",
       "Prior_Conviction_Episodes_DomesticViolenceCharges    0.000000\n",
       "Prior_Conviction_Episodes_GunCharges                 0.000000\n",
       "Prior_Revocations_Parole                             0.000000\n",
       "Prior_Revocations_Probation                          0.000000\n",
       "Condition_MH_SA                                      0.000000\n",
       "Condition_Cog_Ed                                     0.000000\n",
       "Condition_Other                                      0.000000\n",
       "Recidivism_Arrest_Year1                              0.302187\n",
       "dtype: float64"
      ]
     },
     "execution_count": 6,
     "metadata": {},
     "output_type": "execute_result"
    }
   ],
   "source": [
    "df.isnull().sum()/len(df)"
   ]
  },
  {
   "cell_type": "code",
   "execution_count": 7,
   "id": "0007282f",
   "metadata": {
    "execution": {
     "iopub.execute_input": "2022-04-27T18:10:41.076196Z",
     "iopub.status.busy": "2022-04-27T18:10:41.075457Z",
     "iopub.status.idle": "2022-04-27T18:10:41.088685Z",
     "shell.execute_reply": "2022-04-27T18:10:41.088185Z",
     "shell.execute_reply.started": "2022-04-27T17:59:55.332457Z"
    },
    "papermill": {
     "duration": 0.058859,
     "end_time": "2022-04-27T18:10:41.088803",
     "exception": false,
     "start_time": "2022-04-27T18:10:41.029944",
     "status": "completed"
    },
    "tags": []
   },
   "outputs": [],
   "source": [
    "df[\"Gang_Affiliated\"] = df.Gang_Affiliated.fillna(-99)\n",
    "df[\"Supervision_Risk_Score_First\"] = df[\"Supervision_Risk_Score_First\"].fillna(df[\"Supervision_Risk_Score_First\"].mean())\n",
    "df.loc[df[\"Supervision_Level_First\"].isnull(), \"Supervision_Level_First\"] = \"Others\"\n",
    "df[\"Prison_Offense\"] = df[\"Prison_Offense\"].fillna(-99)"
   ]
  },
  {
   "cell_type": "code",
   "execution_count": 8,
   "id": "4175e3d4",
   "metadata": {
    "execution": {
     "iopub.execute_input": "2022-04-27T18:10:41.169084Z",
     "iopub.status.busy": "2022-04-27T18:10:41.168435Z",
     "iopub.status.idle": "2022-04-27T18:10:41.172982Z",
     "shell.execute_reply": "2022-04-27T18:10:41.172478Z",
     "shell.execute_reply.started": "2022-04-27T17:59:55.352152Z"
    },
    "papermill": {
     "duration": 0.04696,
     "end_time": "2022-04-27T18:10:41.173122",
     "exception": false,
     "start_time": "2022-04-27T18:10:41.126162",
     "status": "completed"
    },
    "tags": []
   },
   "outputs": [
    {
     "data": {
      "text/plain": [
       "dtype('int64')"
      ]
     },
     "execution_count": 8,
     "metadata": {},
     "output_type": "execute_result"
    }
   ],
   "source": [
    "df.ID.dtype"
   ]
  },
  {
   "cell_type": "code",
   "execution_count": 9,
   "id": "2fe32997",
   "metadata": {
    "execution": {
     "iopub.execute_input": "2022-04-27T18:10:41.255645Z",
     "iopub.status.busy": "2022-04-27T18:10:41.254609Z",
     "iopub.status.idle": "2022-04-27T18:10:41.262678Z",
     "shell.execute_reply": "2022-04-27T18:10:41.262182Z",
     "shell.execute_reply.started": "2022-04-27T17:59:55.359608Z"
    },
    "papermill": {
     "duration": 0.052268,
     "end_time": "2022-04-27T18:10:41.262792",
     "exception": false,
     "start_time": "2022-04-27T18:10:41.210524",
     "status": "completed"
    },
    "tags": []
   },
   "outputs": [],
   "source": [
    "for column in df.columns:\n",
    "   if df[column].dtype == \"bool\":\n",
    "        df[column] = df[column].astype(\"int\")"
   ]
  },
  {
   "cell_type": "code",
   "execution_count": 10,
   "id": "49f8c066",
   "metadata": {
    "execution": {
     "iopub.execute_input": "2022-04-27T18:10:41.345122Z",
     "iopub.status.busy": "2022-04-27T18:10:41.344565Z",
     "iopub.status.idle": "2022-04-27T18:10:41.347391Z",
     "shell.execute_reply": "2022-04-27T18:10:41.347823Z",
     "shell.execute_reply.started": "2022-04-27T17:59:55.373325Z"
    },
    "papermill": {
     "duration": 0.047153,
     "end_time": "2022-04-27T18:10:41.347979",
     "exception": false,
     "start_time": "2022-04-27T18:10:41.300826",
     "status": "completed"
    },
    "tags": []
   },
   "outputs": [],
   "source": [
    "dummy_variables = [column for column in df.columns if df[column].dtype==\"object\"]"
   ]
  },
  {
   "cell_type": "code",
   "execution_count": 11,
   "id": "122dc1fd",
   "metadata": {
    "execution": {
     "iopub.execute_input": "2022-04-27T18:10:41.429906Z",
     "iopub.status.busy": "2022-04-27T18:10:41.428867Z",
     "iopub.status.idle": "2022-04-27T18:10:41.500929Z",
     "shell.execute_reply": "2022-04-27T18:10:41.501421Z",
     "shell.execute_reply.started": "2022-04-27T17:59:55.380642Z"
    },
    "papermill": {
     "duration": 0.115923,
     "end_time": "2022-04-27T18:10:41.501631",
     "exception": false,
     "start_time": "2022-04-27T18:10:41.385708",
     "status": "completed"
    },
    "tags": []
   },
   "outputs": [],
   "source": [
    "df1 = pd.get_dummies(df, columns = dummy_variables, drop_first = True)"
   ]
  },
  {
   "cell_type": "code",
   "execution_count": 12,
   "id": "b3082779",
   "metadata": {
    "execution": {
     "iopub.execute_input": "2022-04-27T18:10:41.582357Z",
     "iopub.status.busy": "2022-04-27T18:10:41.581483Z",
     "iopub.status.idle": "2022-04-27T18:10:41.615017Z",
     "shell.execute_reply": "2022-04-27T18:10:41.616234Z",
     "shell.execute_reply.started": "2022-04-27T17:59:55.458547Z"
    },
    "papermill": {
     "duration": 0.076685,
     "end_time": "2022-04-27T18:10:41.616458",
     "exception": false,
     "start_time": "2022-04-27T18:10:41.539773",
     "status": "completed"
    },
    "tags": []
   },
   "outputs": [],
   "source": [
    "train = df1[df1['Recidivism_Arrest_Year1'].notnull()]\n",
    "test = df1[df1['Recidivism_Arrest_Year1'].isnull()].reset_index(drop=True)"
   ]
  },
  {
   "cell_type": "code",
   "execution_count": 13,
   "id": "714fae7d",
   "metadata": {
    "execution": {
     "iopub.execute_input": "2022-04-27T18:10:41.730207Z",
     "iopub.status.busy": "2022-04-27T18:10:41.728912Z",
     "iopub.status.idle": "2022-04-27T18:10:41.732910Z",
     "shell.execute_reply": "2022-04-27T18:10:41.732472Z",
     "shell.execute_reply.started": "2022-04-27T17:59:55.480767Z"
    },
    "papermill": {
     "duration": 0.058157,
     "end_time": "2022-04-27T18:10:41.733034",
     "exception": false,
     "start_time": "2022-04-27T18:10:41.674877",
     "status": "completed"
    },
    "tags": []
   },
   "outputs": [],
   "source": [
    "X = train.drop([\"ID\", \"Recidivism_Arrest_Year1\"], axis=1)\n",
    "y = train[\"Recidivism_Arrest_Year1\"]"
   ]
  },
  {
   "cell_type": "code",
   "execution_count": 14,
   "id": "696213d5",
   "metadata": {
    "execution": {
     "iopub.execute_input": "2022-04-27T18:10:41.816800Z",
     "iopub.status.busy": "2022-04-27T18:10:41.815568Z",
     "iopub.status.idle": "2022-04-27T18:10:45.038137Z",
     "shell.execute_reply": "2022-04-27T18:10:45.037671Z",
     "shell.execute_reply.started": "2022-04-27T17:59:55.490329Z"
    },
    "papermill": {
     "duration": 3.26435,
     "end_time": "2022-04-27T18:10:45.038263",
     "exception": false,
     "start_time": "2022-04-27T18:10:41.773913",
     "status": "completed"
    },
    "tags": []
   },
   "outputs": [
    {
     "data": {
      "text/plain": [
       "RandomForestClassifier()"
      ]
     },
     "execution_count": 14,
     "metadata": {},
     "output_type": "execute_result"
    }
   ],
   "source": [
    "from sklearn.ensemble import RandomForestClassifier\n",
    "rf = RandomForestClassifier()\n",
    "rf.fit(X,y)"
   ]
  },
  {
   "cell_type": "code",
   "execution_count": 15,
   "id": "a8add1f0",
   "metadata": {
    "execution": {
     "iopub.execute_input": "2022-04-27T18:10:45.115011Z",
     "iopub.status.busy": "2022-04-27T18:10:45.114259Z",
     "iopub.status.idle": "2022-04-27T18:10:45.116780Z",
     "shell.execute_reply": "2022-04-27T18:10:45.116365Z",
     "shell.execute_reply.started": "2022-04-27T17:59:57.980257Z"
    },
    "papermill": {
     "duration": 0.043721,
     "end_time": "2022-04-27T18:10:45.116904",
     "exception": false,
     "start_time": "2022-04-27T18:10:45.073183",
     "status": "completed"
    },
    "tags": []
   },
   "outputs": [],
   "source": [
    "from sklearn.model_selection import GridSearchCV\n",
    "# Create the parameter grid \n",
    "param_grid = {\n",
    "    'bootstrap': [True],\n",
    "    'max_features': [2, 3],\n",
    "    'n_estimators': [200, 300, 1000]\n",
    "}\n",
    "# Create a based model\n",
    "rf = RandomForestClassifier()\n",
    "# Instantiate the grid search model\n",
    "grid_search = GridSearchCV(estimator = rf, param_grid = param_grid, \n",
    "                          cv = 3, n_jobs = -1, verbose = 2)"
   ]
  },
  {
   "cell_type": "code",
   "execution_count": 16,
   "id": "8dc629b4",
   "metadata": {
    "execution": {
     "iopub.execute_input": "2022-04-27T18:10:45.190938Z",
     "iopub.status.busy": "2022-04-27T18:10:45.190180Z",
     "iopub.status.idle": "2022-04-27T18:12:12.243960Z",
     "shell.execute_reply": "2022-04-27T18:12:12.244388Z",
     "shell.execute_reply.started": "2022-04-27T17:59:57.987795Z"
    },
    "papermill": {
     "duration": 87.093036,
     "end_time": "2022-04-27T18:12:12.244540",
     "exception": false,
     "start_time": "2022-04-27T18:10:45.151504",
     "status": "completed"
    },
    "tags": []
   },
   "outputs": [
    {
     "name": "stdout",
     "output_type": "stream",
     "text": [
      "Fitting 3 folds for each of 6 candidates, totalling 18 fits\n"
     ]
    },
    {
     "data": {
      "text/plain": [
       "GridSearchCV(cv=3, estimator=RandomForestClassifier(), n_jobs=-1,\n",
       "             param_grid={'bootstrap': [True], 'max_features': [2, 3],\n",
       "                         'n_estimators': [200, 300, 1000]},\n",
       "             verbose=2)"
      ]
     },
     "execution_count": 16,
     "metadata": {},
     "output_type": "execute_result"
    }
   ],
   "source": [
    "grid_search.fit(X,y)"
   ]
  },
  {
   "cell_type": "code",
   "execution_count": 17,
   "id": "1db53db6",
   "metadata": {
    "execution": {
     "iopub.execute_input": "2022-04-27T18:12:12.320840Z",
     "iopub.status.busy": "2022-04-27T18:12:12.320255Z",
     "iopub.status.idle": "2022-04-27T18:12:12.323034Z",
     "shell.execute_reply": "2022-04-27T18:12:12.323524Z",
     "shell.execute_reply.started": "2022-04-27T18:01:18.194414Z"
    },
    "papermill": {
     "duration": 0.043532,
     "end_time": "2022-04-27T18:12:12.323650",
     "exception": false,
     "start_time": "2022-04-27T18:12:12.280118",
     "status": "completed"
    },
    "tags": []
   },
   "outputs": [
    {
     "data": {
      "text/plain": [
       "RandomForestClassifier(max_features=3, n_estimators=1000)"
      ]
     },
     "execution_count": 17,
     "metadata": {},
     "output_type": "execute_result"
    }
   ],
   "source": [
    "grid_search.best_estimator_"
   ]
  },
  {
   "cell_type": "code",
   "execution_count": 18,
   "id": "d477434b",
   "metadata": {
    "execution": {
     "iopub.execute_input": "2022-04-27T18:12:12.399373Z",
     "iopub.status.busy": "2022-04-27T18:12:12.398582Z",
     "iopub.status.idle": "2022-04-27T18:12:12.400377Z",
     "shell.execute_reply": "2022-04-27T18:12:12.400769Z",
     "shell.execute_reply.started": "2022-04-27T18:01:18.203384Z"
    },
    "papermill": {
     "duration": 0.041783,
     "end_time": "2022-04-27T18:12:12.400907",
     "exception": false,
     "start_time": "2022-04-27T18:12:12.359124",
     "status": "completed"
    },
    "tags": []
   },
   "outputs": [],
   "source": [
    "rf = RandomForestClassifier(max_features=3, n_estimators=1000)"
   ]
  },
  {
   "cell_type": "code",
   "execution_count": 19,
   "id": "c9a34664",
   "metadata": {
    "execution": {
     "iopub.execute_input": "2022-04-27T18:12:12.475203Z",
     "iopub.status.busy": "2022-04-27T18:12:12.474431Z",
     "iopub.status.idle": "2022-04-27T18:12:25.931477Z",
     "shell.execute_reply": "2022-04-27T18:12:25.932085Z",
     "shell.execute_reply.started": "2022-04-27T18:01:18.211435Z"
    },
    "papermill": {
     "duration": 13.495824,
     "end_time": "2022-04-27T18:12:25.932252",
     "exception": false,
     "start_time": "2022-04-27T18:12:12.436428",
     "status": "completed"
    },
    "tags": []
   },
   "outputs": [
    {
     "data": {
      "text/plain": [
       "RandomForestClassifier(max_features=3, n_estimators=1000)"
      ]
     },
     "execution_count": 19,
     "metadata": {},
     "output_type": "execute_result"
    }
   ],
   "source": [
    "rf.fit(X,y)"
   ]
  },
  {
   "cell_type": "code",
   "execution_count": 20,
   "id": "35cb1df8",
   "metadata": {
    "execution": {
     "iopub.execute_input": "2022-04-27T18:12:26.017750Z",
     "iopub.status.busy": "2022-04-27T18:12:26.016872Z",
     "iopub.status.idle": "2022-04-27T18:12:26.020461Z",
     "shell.execute_reply": "2022-04-27T18:12:26.020010Z",
     "shell.execute_reply.started": "2022-04-27T18:01:31.088967Z"
    },
    "papermill": {
     "duration": 0.047215,
     "end_time": "2022-04-27T18:12:26.020569",
     "exception": false,
     "start_time": "2022-04-27T18:12:25.973354",
     "status": "completed"
    },
    "tags": []
   },
   "outputs": [],
   "source": [
    "test = test.drop([\"ID\", \"Recidivism_Arrest_Year1\"], axis=1)"
   ]
  },
  {
   "cell_type": "markdown",
   "id": "aebb830f",
   "metadata": {
    "papermill": {
     "duration": 0.035896,
     "end_time": "2022-04-27T18:12:26.095317",
     "exception": false,
     "start_time": "2022-04-27T18:12:26.059421",
     "status": "completed"
    },
    "tags": []
   },
   "source": [
    "XGBoost"
   ]
  },
  {
   "cell_type": "code",
   "execution_count": 21,
   "id": "68b1ffa6",
   "metadata": {
    "execution": {
     "iopub.execute_input": "2022-04-27T18:12:26.174598Z",
     "iopub.status.busy": "2022-04-27T18:12:26.173635Z",
     "iopub.status.idle": "2022-04-27T18:12:28.117920Z",
     "shell.execute_reply": "2022-04-27T18:12:28.117385Z",
     "shell.execute_reply.started": "2022-04-27T18:01:31.096103Z"
    },
    "papermill": {
     "duration": 1.986283,
     "end_time": "2022-04-27T18:12:28.118038",
     "exception": false,
     "start_time": "2022-04-27T18:12:26.131755",
     "status": "completed"
    },
    "tags": []
   },
   "outputs": [
    {
     "data": {
      "text/plain": [
       "array([[0.787, 0.213],\n",
       "       [0.676, 0.324],\n",
       "       [0.75 , 0.25 ],\n",
       "       ...,\n",
       "       [0.806, 0.194],\n",
       "       [0.918, 0.082],\n",
       "       [0.919, 0.081]])"
      ]
     },
     "execution_count": 21,
     "metadata": {},
     "output_type": "execute_result"
    }
   ],
   "source": [
    "rf.predict_proba(test)"
   ]
  },
  {
   "cell_type": "code",
   "execution_count": 22,
   "id": "79f98e3d",
   "metadata": {
    "execution": {
     "iopub.execute_input": "2022-04-27T18:12:28.200780Z",
     "iopub.status.busy": "2022-04-27T18:12:28.199995Z",
     "iopub.status.idle": "2022-04-27T18:12:30.125933Z",
     "shell.execute_reply": "2022-04-27T18:12:30.125459Z",
     "shell.execute_reply.started": "2022-04-27T18:01:33.178517Z"
    },
    "papermill": {
     "duration": 1.972098,
     "end_time": "2022-04-27T18:12:30.126067",
     "exception": false,
     "start_time": "2022-04-27T18:12:28.153969",
     "status": "completed"
    },
    "tags": []
   },
   "outputs": [],
   "source": [
    "submission_sample[\"Recidivism_Arrest_Year1\"] = rf.predict_proba(test)[:,1]"
   ]
  },
  {
   "cell_type": "code",
   "execution_count": 23,
   "id": "3a96d582",
   "metadata": {
    "execution": {
     "iopub.execute_input": "2022-04-27T18:12:30.208262Z",
     "iopub.status.busy": "2022-04-27T18:12:30.206735Z",
     "iopub.status.idle": "2022-04-27T18:12:30.211106Z",
     "shell.execute_reply": "2022-04-27T18:12:30.211547Z",
     "shell.execute_reply.started": "2022-04-27T18:01:35.141662Z"
    },
    "papermill": {
     "duration": 0.047297,
     "end_time": "2022-04-27T18:12:30.211669",
     "exception": false,
     "start_time": "2022-04-27T18:12:30.164372",
     "status": "completed"
    },
    "tags": []
   },
   "outputs": [
    {
     "data": {
      "text/plain": [
       "0       0.213\n",
       "1       0.324\n",
       "2       0.250\n",
       "3       0.295\n",
       "4       0.206\n",
       "        ...  \n",
       "7802    0.114\n",
       "7803    0.055\n",
       "7804    0.194\n",
       "7805    0.082\n",
       "7806    0.081\n",
       "Name: Recidivism_Arrest_Year1, Length: 7807, dtype: float64"
      ]
     },
     "execution_count": 23,
     "metadata": {},
     "output_type": "execute_result"
    }
   ],
   "source": [
    "submission_sample[\"Recidivism_Arrest_Year1\"]"
   ]
  },
  {
   "cell_type": "code",
   "execution_count": 24,
   "id": "bdb922cb",
   "metadata": {
    "execution": {
     "iopub.execute_input": "2022-04-27T18:12:30.287778Z",
     "iopub.status.busy": "2022-04-27T18:12:30.287123Z",
     "iopub.status.idle": "2022-04-27T18:12:30.307565Z",
     "shell.execute_reply": "2022-04-27T18:12:30.307153Z",
     "shell.execute_reply.started": "2022-04-27T18:01:35.150352Z"
    },
    "papermill": {
     "duration": 0.059886,
     "end_time": "2022-04-27T18:12:30.307672",
     "exception": false,
     "start_time": "2022-04-27T18:12:30.247786",
     "status": "completed"
    },
    "tags": []
   },
   "outputs": [],
   "source": [
    "submission_sample.to_csv(\"submission.csv\", index = False)"
   ]
  },
  {
   "cell_type": "code",
   "execution_count": 25,
   "id": "eee1395f",
   "metadata": {
    "execution": {
     "iopub.execute_input": "2022-04-27T18:12:30.384071Z",
     "iopub.status.busy": "2022-04-27T18:12:30.383347Z",
     "iopub.status.idle": "2022-04-27T18:12:30.385668Z",
     "shell.execute_reply": "2022-04-27T18:12:30.385245Z",
     "shell.execute_reply.started": "2022-04-27T18:01:35.177720Z"
    },
    "papermill": {
     "duration": 0.041952,
     "end_time": "2022-04-27T18:12:30.385772",
     "exception": false,
     "start_time": "2022-04-27T18:12:30.343820",
     "status": "completed"
    },
    "tags": []
   },
   "outputs": [],
   "source": [
    "predictions = submission_sample[\"Recidivism_Arrest_Year1\"] "
   ]
  },
  {
   "cell_type": "markdown",
   "id": "2417fa3c",
   "metadata": {
    "papermill": {
     "duration": 0.035878,
     "end_time": "2022-04-27T18:12:30.457696",
     "exception": false,
     "start_time": "2022-04-27T18:12:30.421818",
     "status": "completed"
    },
    "tags": []
   },
   "source": [
    "XGBoost"
   ]
  },
  {
   "cell_type": "code",
   "execution_count": 26,
   "id": "42ee99d4",
   "metadata": {
    "execution": {
     "iopub.execute_input": "2022-04-27T18:12:30.536275Z",
     "iopub.status.busy": "2022-04-27T18:12:30.535517Z",
     "iopub.status.idle": "2022-04-27T18:12:30.548293Z",
     "shell.execute_reply": "2022-04-27T18:12:30.548662Z",
     "shell.execute_reply.started": "2022-04-27T18:01:35.212631Z"
    },
    "papermill": {
     "duration": 0.054602,
     "end_time": "2022-04-27T18:12:30.548792",
     "exception": false,
     "start_time": "2022-04-27T18:12:30.494190",
     "status": "completed"
    },
    "tags": []
   },
   "outputs": [],
   "source": [
    "from sklearn.model_selection import train_test_split\n",
    "X_train, X_test, y_train, y_test = train_test_split(X, y, test_size=0.2, random_state = 42, shuffle = True)"
   ]
  },
  {
   "cell_type": "code",
   "execution_count": 27,
   "id": "2e653c26",
   "metadata": {
    "execution": {
     "iopub.execute_input": "2022-04-27T18:12:30.634683Z",
     "iopub.status.busy": "2022-04-27T18:12:30.633809Z",
     "iopub.status.idle": "2022-04-27T18:12:41.543071Z",
     "shell.execute_reply": "2022-04-27T18:12:41.542613Z",
     "shell.execute_reply.started": "2022-04-27T18:01:35.230920Z"
    },
    "papermill": {
     "duration": 10.958239,
     "end_time": "2022-04-27T18:12:41.543198",
     "exception": false,
     "start_time": "2022-04-27T18:12:30.584959",
     "status": "completed"
    },
    "tags": []
   },
   "outputs": [
    {
     "name": "stderr",
     "output_type": "stream",
     "text": [
      "/opt/conda/lib/python3.7/site-packages/xgboost/sklearn.py:1224: UserWarning: The use of label encoder in XGBClassifier is deprecated and will be removed in a future release. To remove this warning, do the following: 1) Pass option use_label_encoder=False when constructing XGBClassifier object; and 2) Encode your labels (y) as integers starting with 0, i.e. 0, 1, 2, ..., [num_class - 1].\n",
      "  warnings.warn(label_encoder_deprecation_msg, UserWarning)\n"
     ]
    },
    {
     "name": "stdout",
     "output_type": "stream",
     "text": [
      "[18:12:33] WARNING: ../src/learner.cc:1115: Starting in XGBoost 1.3.0, the default evaluation metric used with the objective 'binary:logistic' was changed from 'error' to 'logloss'. Explicitly set eval_metric if you'd like to restore the old behavior.\n"
     ]
    },
    {
     "data": {
      "text/plain": [
       "XGBClassifier(base_score=0.5, booster='gbtree', colsample_bylevel=1,\n",
       "              colsample_bynode=1, colsample_bytree=1, enable_categorical=False,\n",
       "              gamma=0, gpu_id=-1, importance_type=None,\n",
       "              interaction_constraints='', learning_rate=0.300000012,\n",
       "              max_delta_step=0, max_depth=6, min_child_weight=1, missing=nan,\n",
       "              monotone_constraints='()', n_estimators=200, n_jobs=2,\n",
       "              num_parallel_tree=1, predictor='auto', random_state=0,\n",
       "              reg_alpha=0, reg_lambda=1, scale_pos_weight=1, subsample=1,\n",
       "              tree_method='exact', validate_parameters=1, verbosity=None)"
      ]
     },
     "execution_count": 27,
     "metadata": {},
     "output_type": "execute_result"
    }
   ],
   "source": [
    "from xgboost import XGBClassifier\n",
    "xgb = XGBClassifier(n_estimators=200)\n",
    "\n",
    "xgb.fit(X_train, y_train)"
   ]
  },
  {
   "cell_type": "code",
   "execution_count": 28,
   "id": "2611c585",
   "metadata": {
    "execution": {
     "iopub.execute_input": "2022-04-27T18:12:41.622487Z",
     "iopub.status.busy": "2022-04-27T18:12:41.621705Z",
     "iopub.status.idle": "2022-04-27T18:12:41.647052Z",
     "shell.execute_reply": "2022-04-27T18:12:41.647772Z",
     "shell.execute_reply.started": "2022-04-27T18:01:46.637661Z"
    },
    "papermill": {
     "duration": 0.067588,
     "end_time": "2022-04-27T18:12:41.647937",
     "exception": false,
     "start_time": "2022-04-27T18:12:41.580349",
     "status": "completed"
    },
    "tags": []
   },
   "outputs": [],
   "source": [
    "prediction = xgb.predict_proba(X_test)[:,1]"
   ]
  },
  {
   "cell_type": "code",
   "execution_count": 29,
   "id": "d2949c83",
   "metadata": {
    "execution": {
     "iopub.execute_input": "2022-04-27T18:12:41.728445Z",
     "iopub.status.busy": "2022-04-27T18:12:41.727668Z",
     "iopub.status.idle": "2022-04-27T18:12:41.734665Z",
     "shell.execute_reply": "2022-04-27T18:12:41.734244Z",
     "shell.execute_reply.started": "2022-04-27T18:01:46.673211Z"
    },
    "papermill": {
     "duration": 0.047721,
     "end_time": "2022-04-27T18:12:41.734769",
     "exception": false,
     "start_time": "2022-04-27T18:12:41.687048",
     "status": "completed"
    },
    "tags": []
   },
   "outputs": [
    {
     "data": {
      "text/plain": [
       "0.6601019478948791"
      ]
     },
     "execution_count": 29,
     "metadata": {},
     "output_type": "execute_result"
    }
   ],
   "source": [
    "from sklearn.metrics import roc_auc_score\n",
    "roc_auc_score(y_test, prediction)"
   ]
  },
  {
   "cell_type": "code",
   "execution_count": 30,
   "id": "a5f5890e",
   "metadata": {
    "execution": {
     "iopub.execute_input": "2022-04-27T18:12:41.816555Z",
     "iopub.status.busy": "2022-04-27T18:12:41.815721Z",
     "iopub.status.idle": "2022-04-27T18:13:03.114080Z",
     "shell.execute_reply": "2022-04-27T18:13:03.113618Z",
     "shell.execute_reply.started": "2022-04-27T18:01:46.688314Z"
    },
    "papermill": {
     "duration": 21.341914,
     "end_time": "2022-04-27T18:13:03.114209",
     "exception": false,
     "start_time": "2022-04-27T18:12:41.772295",
     "status": "completed"
    },
    "tags": []
   },
   "outputs": [
    {
     "name": "stdout",
     "output_type": "stream",
     "text": [
      "Fitting 2 folds for each of 2 candidates, totalling 4 fits\n",
      "[CV] END ...bootstrap=True, max_features=2, n_estimators=200; total time=   3.0s\n",
      "[CV] END ...bootstrap=True, max_features=2, n_estimators=200; total time=   3.0s\n",
      "[CV] END ...bootstrap=True, max_features=2, n_estimators=300; total time=   4.6s\n",
      "[CV] END ..bootstrap=True, max_features=2, n_estimators=1000; total time=  14.6s\n",
      "[CV] END ..bootstrap=True, max_features=2, n_estimators=1000; total time=  15.2s\n",
      "[CV] END ...bootstrap=True, max_features=3, n_estimators=300; total time=   4.7s\n",
      "[CV] END ..bootstrap=True, max_features=3, n_estimators=1000; total time=  15.6s\n",
      "[CV] END ..bootstrap=True, max_features=3, n_estimators=1000; total time=  11.4s\n",
      "[18:12:49] WARNING: ../src/learner.cc:1115: Starting in XGBoost 1.3.0, the default evaluation metric used with the objective 'binary:logistic' was changed from 'error' to 'logloss'. Explicitly set eval_metric if you'd like to restore the old behavior.\n",
      "[CV] END .................................min_child_weight=6; total time=  11.2s\n"
     ]
    },
    {
     "name": "stderr",
     "output_type": "stream",
     "text": [
      "/opt/conda/lib/python3.7/site-packages/xgboost/sklearn.py:1224: UserWarning: The use of label encoder in XGBClassifier is deprecated and will be removed in a future release. To remove this warning, do the following: 1) Pass option use_label_encoder=False when constructing XGBClassifier object; and 2) Encode your labels (y) as integers starting with 0, i.e. 0, 1, 2, ..., [num_class - 1].\n",
      "  warnings.warn(label_encoder_deprecation_msg, UserWarning)\n",
      "/opt/conda/lib/python3.7/site-packages/xgboost/sklearn.py:1224: UserWarning: The use of label encoder in XGBClassifier is deprecated and will be removed in a future release. To remove this warning, do the following: 1) Pass option use_label_encoder=False when constructing XGBClassifier object; and 2) Encode your labels (y) as integers starting with 0, i.e. 0, 1, 2, ..., [num_class - 1].\n",
      "  warnings.warn(label_encoder_deprecation_msg, UserWarning)\n"
     ]
    },
    {
     "name": "stdout",
     "output_type": "stream",
     "text": [
      "[18:12:59] WARNING: ../src/learner.cc:1115: Starting in XGBoost 1.3.0, the default evaluation metric used with the objective 'binary:logistic' was changed from 'error' to 'logloss'. Explicitly set eval_metric if you'd like to restore the old behavior.\n"
     ]
    },
    {
     "data": {
      "text/plain": [
       "GridSearchCV(cv=2,\n",
       "             estimator=XGBClassifier(base_score=None, booster=None,\n",
       "                                     colsample_bylevel=None,\n",
       "                                     colsample_bynode=None,\n",
       "                                     colsample_bytree=0.8,\n",
       "                                     enable_categorical=False, gamma=None,\n",
       "                                     gpu_id=None, importance_type=None,\n",
       "                                     interaction_constraints=None,\n",
       "                                     learning_rate=0.1, max_delta_step=None,\n",
       "                                     max_depth=4, min_child_weight=None,\n",
       "                                     missing=nan, monotone_constraints=None,\n",
       "                                     n_estimators=140, n_jobs=None, nthread=4,\n",
       "                                     num_parallel_tree=None, predictor=None,\n",
       "                                     random_state=None, reg_alpha=None,\n",
       "                                     reg_lambda=None, scale_pos_weight=1,\n",
       "                                     seed=27, subsample=0.8, tree_method=None,\n",
       "                                     validate_parameters=None, verbosity=None),\n",
       "             n_jobs=4, param_grid={'min_child_weight': [6, 10]},\n",
       "             scoring='roc_auc', verbose=2)"
      ]
     },
     "execution_count": 30,
     "metadata": {},
     "output_type": "execute_result"
    }
   ],
   "source": [
    "param_test2b = {\n",
    "    'min_child_weight':[6,10],\n",
    "}\n",
    "\n",
    "\n",
    "gsearch2b = GridSearchCV(estimator = XGBClassifier( learning_rate=0.1, n_estimators=140, max_depth=4,\n",
    "                                                   subsample=0.8, colsample_bytree=0.8,objective= 'binary:logistic', \n",
    "                                                   nthread=4, scale_pos_weight=1,seed=27), param_grid = param_test2b, \n",
    "                         scoring='roc_auc',n_jobs=4, cv=2, verbose = 2)\n",
    "gsearch2b.fit(X_train,y_train)"
   ]
  },
  {
   "cell_type": "code",
   "execution_count": 31,
   "id": "b766c837",
   "metadata": {
    "execution": {
     "iopub.execute_input": "2022-04-27T18:13:03.198383Z",
     "iopub.status.busy": "2022-04-27T18:13:03.197603Z",
     "iopub.status.idle": "2022-04-27T18:13:03.204670Z",
     "shell.execute_reply": "2022-04-27T18:13:03.204279Z",
     "shell.execute_reply.started": "2022-04-27T18:02:07.599829Z"
    },
    "papermill": {
     "duration": 0.050923,
     "end_time": "2022-04-27T18:13:03.204787",
     "exception": false,
     "start_time": "2022-04-27T18:13:03.153864",
     "status": "completed"
    },
    "tags": []
   },
   "outputs": [
    {
     "data": {
      "text/plain": [
       "XGBClassifier(base_score=0.5, booster='gbtree', colsample_bylevel=1,\n",
       "              colsample_bynode=1, colsample_bytree=0.8,\n",
       "              enable_categorical=False, gamma=0, gpu_id=-1,\n",
       "              importance_type=None, interaction_constraints='',\n",
       "              learning_rate=0.1, max_delta_step=0, max_depth=4,\n",
       "              min_child_weight=10, missing=nan, monotone_constraints='()',\n",
       "              n_estimators=140, n_jobs=4, nthread=4, num_parallel_tree=1,\n",
       "              predictor='auto', random_state=27, reg_alpha=0, reg_lambda=1,\n",
       "              scale_pos_weight=1, seed=27, subsample=0.8, tree_method='exact',\n",
       "              validate_parameters=1, verbosity=None)"
      ]
     },
     "execution_count": 31,
     "metadata": {},
     "output_type": "execute_result"
    }
   ],
   "source": [
    "gsearch2b.best_estimator_"
   ]
  },
  {
   "cell_type": "code",
   "execution_count": 32,
   "id": "ab57b75e",
   "metadata": {
    "execution": {
     "iopub.execute_input": "2022-04-27T18:13:03.290688Z",
     "iopub.status.busy": "2022-04-27T18:13:03.289815Z",
     "iopub.status.idle": "2022-04-27T18:13:03.292855Z",
     "shell.execute_reply": "2022-04-27T18:13:03.293280Z",
     "shell.execute_reply.started": "2022-04-27T18:02:07.611520Z"
    },
    "papermill": {
     "duration": 0.048069,
     "end_time": "2022-04-27T18:13:03.293403",
     "exception": false,
     "start_time": "2022-04-27T18:13:03.245334",
     "status": "completed"
    },
    "tags": []
   },
   "outputs": [
    {
     "data": {
      "text/plain": [
       "0.7058464900172389"
      ]
     },
     "execution_count": 32,
     "metadata": {},
     "output_type": "execute_result"
    }
   ],
   "source": [
    "grid_search.best_score_"
   ]
  },
  {
   "cell_type": "code",
   "execution_count": 33,
   "id": "ee1c3a9c",
   "metadata": {
    "execution": {
     "iopub.execute_input": "2022-04-27T18:13:03.379615Z",
     "iopub.status.busy": "2022-04-27T18:13:03.378508Z",
     "iopub.status.idle": "2022-04-27T18:13:03.380703Z",
     "shell.execute_reply": "2022-04-27T18:13:03.381128Z",
     "shell.execute_reply.started": "2022-04-27T18:02:07.619275Z"
    },
    "papermill": {
     "duration": 0.047269,
     "end_time": "2022-04-27T18:13:03.381263",
     "exception": false,
     "start_time": "2022-04-27T18:13:03.333994",
     "status": "completed"
    },
    "tags": []
   },
   "outputs": [],
   "source": [
    "xgb = XGBClassifier(learning_rate=0.1, n_estimators=140, max_depth=4,\n",
    "                    subsample=0.8, colsample_bytree=0.8,objective= 'binary:logistic', \n",
    "                    nthread=4, scale_pos_weight=1,seed=27, min_child_weight=10 )"
   ]
  },
  {
   "cell_type": "code",
   "execution_count": 34,
   "id": "cfa3eec3",
   "metadata": {
    "execution": {
     "iopub.execute_input": "2022-04-27T18:13:03.467494Z",
     "iopub.status.busy": "2022-04-27T18:13:03.466736Z",
     "iopub.status.idle": "2022-04-27T18:13:07.508424Z",
     "shell.execute_reply": "2022-04-27T18:13:07.509173Z",
     "shell.execute_reply.started": "2022-04-27T18:02:07.628094Z"
    },
    "papermill": {
     "duration": 4.087323,
     "end_time": "2022-04-27T18:13:07.509335",
     "exception": false,
     "start_time": "2022-04-27T18:13:03.422012",
     "status": "completed"
    },
    "tags": []
   },
   "outputs": [
    {
     "name": "stdout",
     "output_type": "stream",
     "text": [
      "[18:13:03] WARNING: ../src/learner.cc:1115: Starting in XGBoost 1.3.0, the default evaluation metric used with the objective 'binary:logistic' was changed from 'error' to 'logloss'. Explicitly set eval_metric if you'd like to restore the old behavior.\n"
     ]
    },
    {
     "data": {
      "text/plain": [
       "0.7073988702494273"
      ]
     },
     "execution_count": 34,
     "metadata": {},
     "output_type": "execute_result"
    }
   ],
   "source": [
    "xgb.fit(X_train,y_train)\n",
    "prediction = xgb.predict_proba(X_test)[:,1]\n",
    "roc_auc_score(y_test, prediction) "
   ]
  },
  {
   "cell_type": "code",
   "execution_count": 35,
   "id": "71b6ef11",
   "metadata": {
    "execution": {
     "iopub.execute_input": "2022-04-27T18:13:07.605148Z",
     "iopub.status.busy": "2022-04-27T18:13:07.604272Z",
     "iopub.status.idle": "2022-04-27T18:13:07.637841Z",
     "shell.execute_reply": "2022-04-27T18:13:07.638286Z",
     "shell.execute_reply.started": "2022-04-27T18:02:11.339472Z"
    },
    "papermill": {
     "duration": 0.084179,
     "end_time": "2022-04-27T18:13:07.638549",
     "exception": false,
     "start_time": "2022-04-27T18:13:07.554370",
     "status": "completed"
    },
    "tags": []
   },
   "outputs": [],
   "source": [
    "prediction  = xgb.predict_proba(test)[:,1]\n",
    "submission_xgb = submission_sample.copy()\n",
    "submission_xgb['Recidivism_Arrest_Year1'] = prediction"
   ]
  },
  {
   "cell_type": "code",
   "execution_count": 36,
   "id": "4c6078a8",
   "metadata": {
    "execution": {
     "iopub.execute_input": "2022-04-27T18:13:07.744536Z",
     "iopub.status.busy": "2022-04-27T18:13:07.743971Z",
     "iopub.status.idle": "2022-04-27T18:13:07.761739Z",
     "shell.execute_reply": "2022-04-27T18:13:07.761149Z",
     "shell.execute_reply.started": "2022-04-27T18:02:11.371928Z"
    },
    "papermill": {
     "duration": 0.075262,
     "end_time": "2022-04-27T18:13:07.761871",
     "exception": false,
     "start_time": "2022-04-27T18:13:07.686609",
     "status": "completed"
    },
    "tags": []
   },
   "outputs": [],
   "source": [
    "submission_xgb.to_csv(\"sumbission_xgb.csv\", index = False)"
   ]
  },
  {
   "cell_type": "code",
   "execution_count": 37,
   "id": "0ff660ac",
   "metadata": {
    "execution": {
     "iopub.execute_input": "2022-04-27T18:13:07.859377Z",
     "iopub.status.busy": "2022-04-27T18:13:07.857980Z",
     "iopub.status.idle": "2022-04-27T18:13:07.873489Z",
     "shell.execute_reply": "2022-04-27T18:13:07.873071Z",
     "shell.execute_reply.started": "2022-04-27T18:02:11.398967Z"
    },
    "papermill": {
     "duration": 0.065741,
     "end_time": "2022-04-27T18:13:07.873605",
     "exception": false,
     "start_time": "2022-04-27T18:13:07.807864",
     "status": "completed"
    },
    "tags": []
   },
   "outputs": [
    {
     "data": {
      "text/html": [
       "<div>\n",
       "<style scoped>\n",
       "    .dataframe tbody tr th:only-of-type {\n",
       "        vertical-align: middle;\n",
       "    }\n",
       "\n",
       "    .dataframe tbody tr th {\n",
       "        vertical-align: top;\n",
       "    }\n",
       "\n",
       "    .dataframe thead th {\n",
       "        text-align: right;\n",
       "    }\n",
       "</style>\n",
       "<table border=\"1\" class=\"dataframe\">\n",
       "  <thead>\n",
       "    <tr style=\"text-align: right;\">\n",
       "      <th></th>\n",
       "      <th>ID</th>\n",
       "      <th>Recidivism_Arrest_Year1</th>\n",
       "    </tr>\n",
       "  </thead>\n",
       "  <tbody>\n",
       "    <tr>\n",
       "      <th>0</th>\n",
       "      <td>6</td>\n",
       "      <td>0.155612</td>\n",
       "    </tr>\n",
       "    <tr>\n",
       "      <th>1</th>\n",
       "      <td>8</td>\n",
       "      <td>0.252294</td>\n",
       "    </tr>\n",
       "    <tr>\n",
       "      <th>2</th>\n",
       "      <td>12</td>\n",
       "      <td>0.208481</td>\n",
       "    </tr>\n",
       "    <tr>\n",
       "      <th>3</th>\n",
       "      <td>15</td>\n",
       "      <td>0.214675</td>\n",
       "    </tr>\n",
       "    <tr>\n",
       "      <th>4</th>\n",
       "      <td>16</td>\n",
       "      <td>0.135917</td>\n",
       "    </tr>\n",
       "    <tr>\n",
       "      <th>...</th>\n",
       "      <td>...</td>\n",
       "      <td>...</td>\n",
       "    </tr>\n",
       "    <tr>\n",
       "      <th>7802</th>\n",
       "      <td>26746</td>\n",
       "      <td>0.084786</td>\n",
       "    </tr>\n",
       "    <tr>\n",
       "      <th>7803</th>\n",
       "      <td>26747</td>\n",
       "      <td>0.102600</td>\n",
       "    </tr>\n",
       "    <tr>\n",
       "      <th>7804</th>\n",
       "      <td>26749</td>\n",
       "      <td>0.110156</td>\n",
       "    </tr>\n",
       "    <tr>\n",
       "      <th>7805</th>\n",
       "      <td>26752</td>\n",
       "      <td>0.110347</td>\n",
       "    </tr>\n",
       "    <tr>\n",
       "      <th>7806</th>\n",
       "      <td>26755</td>\n",
       "      <td>0.057734</td>\n",
       "    </tr>\n",
       "  </tbody>\n",
       "</table>\n",
       "<p>7807 rows × 2 columns</p>\n",
       "</div>"
      ],
      "text/plain": [
       "         ID  Recidivism_Arrest_Year1\n",
       "0         6                 0.155612\n",
       "1         8                 0.252294\n",
       "2        12                 0.208481\n",
       "3        15                 0.214675\n",
       "4        16                 0.135917\n",
       "...     ...                      ...\n",
       "7802  26746                 0.084786\n",
       "7803  26747                 0.102600\n",
       "7804  26749                 0.110156\n",
       "7805  26752                 0.110347\n",
       "7806  26755                 0.057734\n",
       "\n",
       "[7807 rows x 2 columns]"
      ]
     },
     "execution_count": 37,
     "metadata": {},
     "output_type": "execute_result"
    }
   ],
   "source": [
    "submission_xgb"
   ]
  },
  {
   "cell_type": "code",
   "execution_count": 38,
   "id": "4e45ee73",
   "metadata": {
    "execution": {
     "iopub.execute_input": "2022-04-27T18:13:07.970804Z",
     "iopub.status.busy": "2022-04-27T18:13:07.970292Z",
     "iopub.status.idle": "2022-04-27T18:13:07.974291Z",
     "shell.execute_reply": "2022-04-27T18:13:07.973774Z",
     "shell.execute_reply.started": "2022-04-27T18:02:11.416817Z"
    },
    "papermill": {
     "duration": 0.054795,
     "end_time": "2022-04-27T18:13:07.974399",
     "exception": false,
     "start_time": "2022-04-27T18:13:07.919604",
     "status": "completed"
    },
    "tags": []
   },
   "outputs": [],
   "source": [
    "submission_sample [\"Recidivism_Arrest_Year1\"] = 0.3*submission_sample['Recidivism_Arrest_Year1'] + 0.7*submission_xgb[\"Recidivism_Arrest_Year1\"]"
   ]
  },
  {
   "cell_type": "code",
   "execution_count": 39,
   "id": "eaf3062c",
   "metadata": {
    "execution": {
     "iopub.execute_input": "2022-04-27T18:13:08.071520Z",
     "iopub.status.busy": "2022-04-27T18:13:08.070542Z",
     "iopub.status.idle": "2022-04-27T18:13:08.097608Z",
     "shell.execute_reply": "2022-04-27T18:13:08.098076Z",
     "shell.execute_reply.started": "2022-04-27T18:02:11.424616Z"
    },
    "papermill": {
     "duration": 0.077993,
     "end_time": "2022-04-27T18:13:08.098213",
     "exception": false,
     "start_time": "2022-04-27T18:13:08.020220",
     "status": "completed"
    },
    "tags": []
   },
   "outputs": [],
   "source": [
    "submission_sample.to_csv('submission_blend.csv', index = False)"
   ]
  }
 ],
 "metadata": {
  "kernelspec": {
   "display_name": "Python 3",
   "language": "python",
   "name": "python3"
  },
  "language_info": {
   "codemirror_mode": {
    "name": "ipython",
    "version": 3
   },
   "file_extension": ".py",
   "mimetype": "text/x-python",
   "name": "python",
   "nbconvert_exporter": "python",
   "pygments_lexer": "ipython3",
   "version": "3.7.12"
  },
  "papermill": {
   "default_parameters": {},
   "duration": 158.264051,
   "end_time": "2022-04-27T18:13:09.959371",
   "environment_variables": {},
   "exception": null,
   "input_path": "__notebook__.ipynb",
   "output_path": "__notebook__.ipynb",
   "parameters": {},
   "start_time": "2022-04-27T18:10:31.695320",
   "version": "2.3.3"
  }
 },
 "nbformat": 4,
 "nbformat_minor": 5
}
